{
 "cells": [
  {
   "cell_type": "code",
   "execution_count": 1,
   "metadata": {},
   "outputs": [
    {
     "name": "stderr",
     "output_type": "stream",
     "text": [
      "2023-11-13 22:39:55.374545: I tensorflow/core/util/port.cc:111] oneDNN custom operations are on. You may see slightly different numerical results due to floating-point round-off errors from different computation orders. To turn them off, set the environment variable `TF_ENABLE_ONEDNN_OPTS=0`.\n",
      "2023-11-13 22:39:55.430490: I tensorflow/tsl/cuda/cudart_stub.cc:28] Could not find cuda drivers on your machine, GPU will not be used.\n",
      "2023-11-13 22:39:55.740678: E tensorflow/compiler/xla/stream_executor/cuda/cuda_dnn.cc:9342] Unable to register cuDNN factory: Attempting to register factory for plugin cuDNN when one has already been registered\n",
      "2023-11-13 22:39:55.740761: E tensorflow/compiler/xla/stream_executor/cuda/cuda_fft.cc:609] Unable to register cuFFT factory: Attempting to register factory for plugin cuFFT when one has already been registered\n",
      "2023-11-13 22:39:55.742353: E tensorflow/compiler/xla/stream_executor/cuda/cuda_blas.cc:1518] Unable to register cuBLAS factory: Attempting to register factory for plugin cuBLAS when one has already been registered\n",
      "2023-11-13 22:39:55.872490: I tensorflow/tsl/cuda/cudart_stub.cc:28] Could not find cuda drivers on your machine, GPU will not be used.\n",
      "2023-11-13 22:39:55.875861: I tensorflow/core/platform/cpu_feature_guard.cc:182] This TensorFlow binary is optimized to use available CPU instructions in performance-critical operations.\n",
      "To enable the following instructions: AVX2 AVX512F AVX512_VNNI FMA, in other operations, rebuild TensorFlow with the appropriate compiler flags.\n",
      "2023-11-13 22:39:58.921148: W tensorflow/compiler/tf2tensorrt/utils/py_utils.cc:38] TF-TRT Warning: Could not find TensorRT\n"
     ]
    }
   ],
   "source": [
    "import tensorflow as tf\n",
    "from tensorflow import keras\n",
    "import numpy as np"
   ]
  },
  {
   "cell_type": "code",
   "execution_count": 2,
   "metadata": {},
   "outputs": [],
   "source": [
    "from keras.datasets import cifar10\n",
    "(x_train_full, y_train_full), (x_test, y_test)= cifar10.load_data()"
   ]
  },
  {
   "cell_type": "code",
   "execution_count": 3,
   "metadata": {},
   "outputs": [
    {
     "data": {
      "text/plain": [
       "(50000, 32, 32, 3)"
      ]
     },
     "execution_count": 3,
     "metadata": {},
     "output_type": "execute_result"
    }
   ],
   "source": [
    "x_train_full.shape"
   ]
  },
  {
   "cell_type": "code",
   "execution_count": 4,
   "metadata": {},
   "outputs": [
    {
     "data": {
      "text/plain": [
       "array([[[[ 59,  62,  63],\n",
       "         [ 43,  46,  45],\n",
       "         [ 50,  48,  43],\n",
       "         ...,\n",
       "         [158, 132, 108],\n",
       "         [152, 125, 102],\n",
       "         [148, 124, 103]],\n",
       "\n",
       "        [[ 16,  20,  20],\n",
       "         [  0,   0,   0],\n",
       "         [ 18,   8,   0],\n",
       "         ...,\n",
       "         [123,  88,  55],\n",
       "         [119,  83,  50],\n",
       "         [122,  87,  57]],\n",
       "\n",
       "        [[ 25,  24,  21],\n",
       "         [ 16,   7,   0],\n",
       "         [ 49,  27,   8],\n",
       "         ...,\n",
       "         [118,  84,  50],\n",
       "         [120,  84,  50],\n",
       "         [109,  73,  42]],\n",
       "\n",
       "        ...,\n",
       "\n",
       "        [[208, 170,  96],\n",
       "         [201, 153,  34],\n",
       "         [198, 161,  26],\n",
       "         ...,\n",
       "         [160, 133,  70],\n",
       "         [ 56,  31,   7],\n",
       "         [ 53,  34,  20]],\n",
       "\n",
       "        [[180, 139,  96],\n",
       "         [173, 123,  42],\n",
       "         [186, 144,  30],\n",
       "         ...,\n",
       "         [184, 148,  94],\n",
       "         [ 97,  62,  34],\n",
       "         [ 83,  53,  34]],\n",
       "\n",
       "        [[177, 144, 116],\n",
       "         [168, 129,  94],\n",
       "         [179, 142,  87],\n",
       "         ...,\n",
       "         [216, 184, 140],\n",
       "         [151, 118,  84],\n",
       "         [123,  92,  72]]],\n",
       "\n",
       "\n",
       "       [[[154, 177, 187],\n",
       "         [126, 137, 136],\n",
       "         [105, 104,  95],\n",
       "         ...,\n",
       "         [ 91,  95,  71],\n",
       "         [ 87,  90,  71],\n",
       "         [ 79,  81,  70]],\n",
       "\n",
       "        [[140, 160, 169],\n",
       "         [145, 153, 154],\n",
       "         [125, 125, 118],\n",
       "         ...,\n",
       "         [ 96,  99,  78],\n",
       "         [ 77,  80,  62],\n",
       "         [ 71,  73,  61]],\n",
       "\n",
       "        [[140, 155, 164],\n",
       "         [139, 146, 149],\n",
       "         [115, 115, 112],\n",
       "         ...,\n",
       "         [ 79,  82,  64],\n",
       "         [ 68,  70,  55],\n",
       "         [ 67,  69,  55]],\n",
       "\n",
       "        ...,\n",
       "\n",
       "        [[175, 167, 166],\n",
       "         [156, 154, 160],\n",
       "         [154, 160, 170],\n",
       "         ...,\n",
       "         [ 42,  34,  36],\n",
       "         [ 61,  53,  57],\n",
       "         [ 93,  83,  91]],\n",
       "\n",
       "        [[165, 154, 128],\n",
       "         [156, 152, 130],\n",
       "         [159, 161, 142],\n",
       "         ...,\n",
       "         [103,  93,  96],\n",
       "         [123, 114, 120],\n",
       "         [131, 121, 131]],\n",
       "\n",
       "        [[163, 148, 120],\n",
       "         [158, 148, 122],\n",
       "         [163, 156, 133],\n",
       "         ...,\n",
       "         [143, 133, 139],\n",
       "         [143, 134, 142],\n",
       "         [143, 133, 144]]],\n",
       "\n",
       "\n",
       "       [[[255, 255, 255],\n",
       "         [253, 253, 253],\n",
       "         [253, 253, 253],\n",
       "         ...,\n",
       "         [253, 253, 253],\n",
       "         [253, 253, 253],\n",
       "         [253, 253, 253]],\n",
       "\n",
       "        [[255, 255, 255],\n",
       "         [255, 255, 255],\n",
       "         [255, 255, 255],\n",
       "         ...,\n",
       "         [255, 255, 255],\n",
       "         [255, 255, 255],\n",
       "         [255, 255, 255]],\n",
       "\n",
       "        [[255, 255, 255],\n",
       "         [254, 254, 254],\n",
       "         [254, 254, 254],\n",
       "         ...,\n",
       "         [254, 254, 254],\n",
       "         [254, 254, 254],\n",
       "         [254, 254, 254]],\n",
       "\n",
       "        ...,\n",
       "\n",
       "        [[113, 120, 112],\n",
       "         [111, 118, 111],\n",
       "         [105, 112, 106],\n",
       "         ...,\n",
       "         [ 72,  81,  80],\n",
       "         [ 72,  80,  79],\n",
       "         [ 72,  80,  79]],\n",
       "\n",
       "        [[111, 118, 110],\n",
       "         [104, 111, 104],\n",
       "         [ 99, 106,  98],\n",
       "         ...,\n",
       "         [ 68,  75,  73],\n",
       "         [ 70,  76,  75],\n",
       "         [ 78,  84,  82]],\n",
       "\n",
       "        [[106, 113, 105],\n",
       "         [ 99, 106,  98],\n",
       "         [ 95, 102,  94],\n",
       "         ...,\n",
       "         [ 78,  85,  83],\n",
       "         [ 79,  85,  83],\n",
       "         [ 80,  86,  84]]],\n",
       "\n",
       "\n",
       "       ...,\n",
       "\n",
       "\n",
       "       [[[ 35, 178, 235],\n",
       "         [ 40, 176, 239],\n",
       "         [ 42, 176, 241],\n",
       "         ...,\n",
       "         [ 99, 177, 219],\n",
       "         [ 79, 147, 197],\n",
       "         [ 89, 148, 189]],\n",
       "\n",
       "        [[ 57, 182, 234],\n",
       "         [ 44, 184, 250],\n",
       "         [ 50, 183, 240],\n",
       "         ...,\n",
       "         [156, 182, 200],\n",
       "         [141, 177, 206],\n",
       "         [116, 149, 175]],\n",
       "\n",
       "        [[ 98, 197, 237],\n",
       "         [ 64, 189, 252],\n",
       "         [ 69, 192, 245],\n",
       "         ...,\n",
       "         [188, 195, 206],\n",
       "         [119, 135, 147],\n",
       "         [ 61,  79,  90]],\n",
       "\n",
       "        ...,\n",
       "\n",
       "        [[ 73,  79,  77],\n",
       "         [ 53,  63,  68],\n",
       "         [ 54,  68,  80],\n",
       "         ...,\n",
       "         [ 17,  40,  64],\n",
       "         [ 21,  36,  51],\n",
       "         [ 33,  48,  49]],\n",
       "\n",
       "        [[ 61,  68,  75],\n",
       "         [ 55,  70,  86],\n",
       "         [ 57,  79, 103],\n",
       "         ...,\n",
       "         [ 24,  48,  72],\n",
       "         [ 17,  35,  53],\n",
       "         [  7,  23,  32]],\n",
       "\n",
       "        [[ 44,  56,  73],\n",
       "         [ 46,  66,  88],\n",
       "         [ 49,  77, 105],\n",
       "         ...,\n",
       "         [ 27,  52,  77],\n",
       "         [ 21,  43,  66],\n",
       "         [ 12,  31,  50]]],\n",
       "\n",
       "\n",
       "       [[[189, 211, 240],\n",
       "         [186, 208, 236],\n",
       "         [185, 207, 235],\n",
       "         ...,\n",
       "         [175, 195, 224],\n",
       "         [172, 194, 222],\n",
       "         [169, 194, 220]],\n",
       "\n",
       "        [[194, 210, 239],\n",
       "         [191, 207, 236],\n",
       "         [190, 206, 235],\n",
       "         ...,\n",
       "         [173, 192, 220],\n",
       "         [171, 191, 218],\n",
       "         [167, 190, 216]],\n",
       "\n",
       "        [[208, 219, 244],\n",
       "         [205, 216, 240],\n",
       "         [204, 215, 239],\n",
       "         ...,\n",
       "         [175, 191, 217],\n",
       "         [172, 190, 216],\n",
       "         [169, 191, 215]],\n",
       "\n",
       "        ...,\n",
       "\n",
       "        [[207, 199, 181],\n",
       "         [203, 195, 175],\n",
       "         [203, 196, 173],\n",
       "         ...,\n",
       "         [135, 132, 127],\n",
       "         [162, 158, 150],\n",
       "         [168, 163, 151]],\n",
       "\n",
       "        [[198, 190, 170],\n",
       "         [189, 181, 159],\n",
       "         [180, 172, 147],\n",
       "         ...,\n",
       "         [178, 171, 160],\n",
       "         [175, 169, 156],\n",
       "         [175, 169, 154]],\n",
       "\n",
       "        [[198, 189, 173],\n",
       "         [189, 181, 162],\n",
       "         [178, 170, 149],\n",
       "         ...,\n",
       "         [195, 184, 169],\n",
       "         [196, 189, 171],\n",
       "         [195, 190, 171]]],\n",
       "\n",
       "\n",
       "       [[[229, 229, 239],\n",
       "         [236, 237, 247],\n",
       "         [234, 236, 247],\n",
       "         ...,\n",
       "         [217, 219, 233],\n",
       "         [221, 223, 234],\n",
       "         [222, 223, 233]],\n",
       "\n",
       "        [[222, 221, 229],\n",
       "         [239, 239, 249],\n",
       "         [233, 234, 246],\n",
       "         ...,\n",
       "         [223, 223, 236],\n",
       "         [227, 228, 238],\n",
       "         [210, 211, 220]],\n",
       "\n",
       "        [[213, 206, 211],\n",
       "         [234, 232, 239],\n",
       "         [231, 233, 244],\n",
       "         ...,\n",
       "         [220, 220, 232],\n",
       "         [220, 219, 232],\n",
       "         [202, 203, 215]],\n",
       "\n",
       "        ...,\n",
       "\n",
       "        [[150, 143, 135],\n",
       "         [140, 135, 127],\n",
       "         [132, 127, 120],\n",
       "         ...,\n",
       "         [224, 222, 218],\n",
       "         [230, 228, 225],\n",
       "         [241, 241, 238]],\n",
       "\n",
       "        [[137, 132, 126],\n",
       "         [130, 127, 120],\n",
       "         [125, 121, 115],\n",
       "         ...,\n",
       "         [181, 180, 178],\n",
       "         [202, 201, 198],\n",
       "         [212, 211, 207]],\n",
       "\n",
       "        [[122, 119, 114],\n",
       "         [118, 116, 110],\n",
       "         [120, 116, 111],\n",
       "         ...,\n",
       "         [179, 177, 173],\n",
       "         [164, 164, 162],\n",
       "         [163, 163, 161]]]], dtype=uint8)"
      ]
     },
     "execution_count": 4,
     "metadata": {},
     "output_type": "execute_result"
    }
   ],
   "source": [
    "x_train_full"
   ]
  },
  {
   "cell_type": "code",
   "execution_count": 5,
   "metadata": {},
   "outputs": [],
   "source": [
    "x_train = x_train_full[:40000] / 255\n",
    "y_train = y_train_full[:40000]\n",
    "x_valid = x_train_full[40000:] / 255\n",
    "y_valid = y_train_full[40000:]"
   ]
  },
  {
   "cell_type": "code",
   "execution_count": 6,
   "metadata": {},
   "outputs": [
    {
     "data": {
      "text/plain": [
       "(10000, 32, 32, 3)"
      ]
     },
     "execution_count": 6,
     "metadata": {},
     "output_type": "execute_result"
    }
   ],
   "source": [
    "x_valid.shape"
   ]
  },
  {
   "cell_type": "code",
   "execution_count": 7,
   "metadata": {},
   "outputs": [
    {
     "name": "stderr",
     "output_type": "stream",
     "text": [
      "2023-11-13 22:40:03.618015: E tensorflow/compiler/xla/stream_executor/cuda/cuda_driver.cc:268] failed call to cuInit: CUDA_ERROR_NO_DEVICE: no CUDA-capable device is detected\n"
     ]
    }
   ],
   "source": [
    "model = keras.models.Sequential([\n",
    "    keras.layers.Flatten(input_shape=[32, 32, 3])\n",
    "])\n",
    "for _ in range(20):\n",
    "    model.add(keras.layers.Dense(100,activation=\"elu\",kernel_initializer=\"he_normal\"))\n",
    "model.add(keras.layers.Dense(10,activation=\"softmax\",kernel_initializer=\"he_normal\"))\n"
   ]
  },
  {
   "cell_type": "code",
   "execution_count": 12,
   "metadata": {},
   "outputs": [],
   "source": [
    "model.compile(optimizer=keras.optimizers.Nadam(),loss=\"sparse_categorical_crossentropy\",metrics=[\"accuracy\"])\n",
    "early_stopping_cb = keras.callbacks.EarlyStopping(patience=10)\n",
    "\n",
    "\n"
   ]
  },
  {
   "cell_type": "markdown",
   "metadata": {},
   "source": [
    "### We will use exponential scheduling "
   ]
  },
  {
   "cell_type": "code",
   "execution_count": 9,
   "metadata": {},
   "outputs": [],
   "source": [
    "# the formula is lr = lr0 * 0.1**(epoch / s)\n",
    "\n",
    "def exponential_decay(lr0, s):\n",
    "    def exponential_decay_fn(epoch):\n",
    "        return lr0 * 0.1**(epoch / s)\n",
    "    return exponential_decay_fn"
   ]
  },
  {
   "cell_type": "code",
   "execution_count": 10,
   "metadata": {},
   "outputs": [],
   "source": [
    "expo_decay_fn = exponential_decay(lr0=0.01,s=20)\n",
    "lr_schedular = keras.callbacks.LearningRateScheduler(expo_decay_fn)"
   ]
  },
  {
   "cell_type": "code",
   "execution_count": 17,
   "metadata": {},
   "outputs": [
    {
     "name": "stdout",
     "output_type": "stream",
     "text": [
      "Epoch 1/100\n",
      "1250/1250 [==============================] - 14s 11ms/step - loss: 2.3521 - accuracy: 0.0974 - val_loss: 2.3411 - val_accuracy: 0.1025 - lr: 0.0100\n",
      "Epoch 2/100\n",
      "1250/1250 [==============================] - 16s 13ms/step - loss: 2.3484 - accuracy: 0.0988 - val_loss: 2.3324 - val_accuracy: 0.1014 - lr: 0.0089\n",
      "Epoch 3/100\n",
      "1250/1250 [==============================] - 13s 11ms/step - loss: 2.3462 - accuracy: 0.0986 - val_loss: 2.3273 - val_accuracy: 0.1003 - lr: 0.0079\n",
      "Epoch 4/100\n",
      "1250/1250 [==============================] - 12s 10ms/step - loss: 2.3465 - accuracy: 0.0985 - val_loss: 2.3643 - val_accuracy: 0.1022 - lr: 0.0071\n",
      "Epoch 5/100\n",
      "1250/1250 [==============================] - 12s 10ms/step - loss: 2.3433 - accuracy: 0.0984 - val_loss: 2.3321 - val_accuracy: 0.1016 - lr: 0.0063\n",
      "Epoch 6/100\n",
      "1250/1250 [==============================] - 12s 10ms/step - loss: 2.3414 - accuracy: 0.0998 - val_loss: 2.3165 - val_accuracy: 0.1016 - lr: 0.0056\n",
      "Epoch 7/100\n",
      "1250/1250 [==============================] - 14s 11ms/step - loss: 2.3394 - accuracy: 0.0996 - val_loss: 2.3511 - val_accuracy: 0.0997 - lr: 0.0050\n",
      "Epoch 8/100\n",
      "1250/1250 [==============================] - 14s 11ms/step - loss: 2.3383 - accuracy: 0.0997 - val_loss: 2.3275 - val_accuracy: 0.0977 - lr: 0.0045\n",
      "Epoch 9/100\n",
      "1250/1250 [==============================] - 15s 12ms/step - loss: 2.3377 - accuracy: 0.0982 - val_loss: 2.3194 - val_accuracy: 0.0997 - lr: 0.0040\n",
      "Epoch 10/100\n",
      "1250/1250 [==============================] - 15s 12ms/step - loss: 2.3339 - accuracy: 0.1005 - val_loss: 2.3410 - val_accuracy: 0.0952 - lr: 0.0035\n",
      "Epoch 11/100\n",
      "1250/1250 [==============================] - 14s 11ms/step - loss: 2.3311 - accuracy: 0.1022 - val_loss: 2.3232 - val_accuracy: 0.1003 - lr: 0.0032\n",
      "Epoch 12/100\n",
      "1250/1250 [==============================] - 14s 11ms/step - loss: 2.3290 - accuracy: 0.0984 - val_loss: 2.3340 - val_accuracy: 0.0952 - lr: 0.0028\n",
      "Epoch 13/100\n",
      "1250/1250 [==============================] - 15s 12ms/step - loss: 2.3257 - accuracy: 0.0991 - val_loss: 2.3173 - val_accuracy: 0.0977 - lr: 0.0025\n",
      "Epoch 14/100\n",
      "1250/1250 [==============================] - 14s 11ms/step - loss: 2.3259 - accuracy: 0.0986 - val_loss: 2.3409 - val_accuracy: 0.1014 - lr: 0.0022\n",
      "Epoch 15/100\n",
      "1250/1250 [==============================] - 15s 12ms/step - loss: 2.3229 - accuracy: 0.0974 - val_loss: 2.3258 - val_accuracy: 0.1003 - lr: 0.0020\n",
      "Epoch 16/100\n",
      "1250/1250 [==============================] - 14s 12ms/step - loss: 2.3218 - accuracy: 0.0979 - val_loss: 2.3321 - val_accuracy: 0.1014 - lr: 0.0018\n"
     ]
    }
   ],
   "source": [
    "history = model.fit(x_train,y_train,validation_data=(x_valid,y_valid),callbacks=[early_stopping_cb,lr_schedular],epochs=100)"
   ]
  },
  {
   "cell_type": "markdown",
   "metadata": {},
   "source": [
    "### To plot the learning curve "
   ]
  },
  {
   "cell_type": "code",
   "execution_count": 15,
   "metadata": {},
   "outputs": [],
   "source": [
    "import matplotlib.pyplot as plt"
   ]
  },
  {
   "cell_type": "code",
   "execution_count": 18,
   "metadata": {},
   "outputs": [
    {
     "data": {
      "image/png": "[encoded data removed]",
      "text/plain": [
       "<Figure size 640x480 with 1 Axes>"
      ]
     },
     "metadata": {},
     "output_type": "display_data"
    }
   ],
   "source": [
    "plt.plot(history.history['loss'], label='Loss')\n",
    "plt.plot(history.history['val_loss'], label='Val_loss')\n",
    "plt.title('Learning Curve')\n",
    "plt.xlabel('Epoch')\n",
    "plt.ylabel('Loss')\n",
    "plt.legend()\n",
    "plt.show()"
   ]
  },
  {
   "cell_type": "markdown",
   "metadata": {},
   "source": [
    "### Now we will train the model again using batch normalization "
   ]
  },
  {
   "cell_type": "code",
   "execution_count": 19,
   "metadata": {},
   "outputs": [],
   "source": [
    "model1 = keras.Sequential([\n",
    "    keras.layers.Flatten(input_shape=[32,32,3])\n",
    "])\n",
    "\n",
    "for _ in range(20):\n",
    "    model1.add(keras.layers.Dense(100,kernel_initializer=\"he_normal\"))\n",
    "    model1.add(keras.layers.BatchNormalization())\n",
    "    model1.add(keras.layers.Activation(\"elu\"))\n",
    "model1.add(keras.layers.Dense(10,activation=\"softmax\",kernel_initializer=\"he_normal\"))\n"
   ]
  },
  {
   "cell_type": "code",
   "execution_count": 20,
   "metadata": {},
   "outputs": [],
   "source": [
    "model1.compile(optimizer=keras.optimizers.Nadam(),loss=\"sparse_categorical_crossentropy\",metrics=[\"accuracy\"])\n"
   ]
  },
  {
   "cell_type": "code",
   "execution_count": 21,
   "metadata": {},
   "outputs": [
    {
     "name": "stdout",
     "output_type": "stream",
     "text": [
      "Epoch 1/100\n",
      "1250/1250 [==============================] - 58s 21ms/step - loss: 1.9602 - accuracy: 0.2781 - val_loss: 2.0313 - val_accuracy: 0.2875 - lr: 0.0100\n",
      "Epoch 2/100\n",
      "1250/1250 [==============================] - 24s 19ms/step - loss: 1.7868 - accuracy: 0.3437 - val_loss: 2.4592 - val_accuracy: 0.2698 - lr: 0.0089\n",
      "Epoch 3/100\n",
      "1250/1250 [==============================] - 26s 21ms/step - loss: 1.7109 - accuracy: 0.3756 - val_loss: 2.4485 - val_accuracy: 0.2930 - lr: 0.0079\n",
      "Epoch 4/100\n",
      "1250/1250 [==============================] - 22s 17ms/step - loss: 1.6490 - accuracy: 0.3988 - val_loss: 2.2939 - val_accuracy: 0.3530 - lr: 0.0071\n",
      "Epoch 5/100\n",
      "1250/1250 [==============================] - 20s 16ms/step - loss: 1.5929 - accuracy: 0.4256 - val_loss: 1.8869 - val_accuracy: 0.3727 - lr: 0.0063\n",
      "Epoch 6/100\n",
      "1250/1250 [==============================] - 23s 19ms/step - loss: 1.5434 - accuracy: 0.4437 - val_loss: 1.7703 - val_accuracy: 0.3919 - lr: 0.0056\n",
      "Epoch 7/100\n",
      "1250/1250 [==============================] - 25s 20ms/step - loss: 1.5037 - accuracy: 0.4630 - val_loss: 1.9603 - val_accuracy: 0.3310 - lr: 0.0050\n",
      "Epoch 8/100\n",
      "1250/1250 [==============================] - 25s 20ms/step - loss: 1.4598 - accuracy: 0.4763 - val_loss: 1.7400 - val_accuracy: 0.4022 - lr: 0.0045\n",
      "Epoch 9/100\n",
      "1250/1250 [==============================] - 24s 19ms/step - loss: 1.4207 - accuracy: 0.4934 - val_loss: 1.6423 - val_accuracy: 0.4267 - lr: 0.0040\n",
      "Epoch 10/100\n",
      "1250/1250 [==============================] - 24s 19ms/step - loss: 1.3867 - accuracy: 0.5070 - val_loss: 1.5794 - val_accuracy: 0.4484 - lr: 0.0035\n",
      "Epoch 11/100\n",
      "1250/1250 [==============================] - 25s 20ms/step - loss: 1.3513 - accuracy: 0.5203 - val_loss: 1.8231 - val_accuracy: 0.3944 - lr: 0.0032\n",
      "Epoch 12/100\n",
      "1250/1250 [==============================] - 25s 20ms/step - loss: 1.3275 - accuracy: 0.5311 - val_loss: 1.6789 - val_accuracy: 0.4245 - lr: 0.0028\n",
      "Epoch 13/100\n",
      "1250/1250 [==============================] - 24s 19ms/step - loss: 1.2964 - accuracy: 0.5403 - val_loss: 1.4808 - val_accuracy: 0.4793 - lr: 0.0025\n",
      "Epoch 14/100\n",
      "1250/1250 [==============================] - 24s 19ms/step - loss: 1.2683 - accuracy: 0.5522 - val_loss: 1.6531 - val_accuracy: 0.4221 - lr: 0.0022\n",
      "Epoch 15/100\n",
      "1250/1250 [==============================] - 24s 19ms/step - loss: 1.2474 - accuracy: 0.5581 - val_loss: 1.5135 - val_accuracy: 0.4706 - lr: 0.0020\n",
      "Epoch 16/100\n",
      "1250/1250 [==============================] - 24s 19ms/step - loss: 1.2288 - accuracy: 0.5641 - val_loss: 1.5179 - val_accuracy: 0.4753 - lr: 0.0018\n",
      "Epoch 17/100\n",
      "1250/1250 [==============================] - 24s 19ms/step - loss: 1.2004 - accuracy: 0.5753 - val_loss: 1.4805 - val_accuracy: 0.4883 - lr: 0.0016\n",
      "Epoch 18/100\n",
      "1250/1250 [==============================] - 23s 19ms/step - loss: 1.1854 - accuracy: 0.5808 - val_loss: 1.5107 - val_accuracy: 0.4865 - lr: 0.0014\n",
      "Epoch 19/100\n",
      "1250/1250 [==============================] - 23s 19ms/step - loss: 1.1722 - accuracy: 0.5864 - val_loss: 1.4699 - val_accuracy: 0.4904 - lr: 0.0013\n",
      "Epoch 20/100\n",
      "1250/1250 [==============================] - 24s 19ms/step - loss: 1.1530 - accuracy: 0.5918 - val_loss: 1.4446 - val_accuracy: 0.5059 - lr: 0.0011\n",
      "Epoch 21/100\n",
      "1250/1250 [==============================] - 23s 19ms/step - loss: 1.1437 - accuracy: 0.5940 - val_loss: 1.4299 - val_accuracy: 0.5085 - lr: 0.0010\n",
      "Epoch 22/100\n",
      "1250/1250 [==============================] - 23s 19ms/step - loss: 1.1262 - accuracy: 0.5999 - val_loss: 1.4969 - val_accuracy: 0.4932 - lr: 8.9125e-04\n",
      "Epoch 23/100\n",
      "1250/1250 [==============================] - 23s 18ms/step - loss: 1.1130 - accuracy: 0.6060 - val_loss: 1.4782 - val_accuracy: 0.5033 - lr: 7.9433e-04\n",
      "Epoch 24/100\n",
      "1250/1250 [==============================] - 23s 18ms/step - loss: 1.1102 - accuracy: 0.6069 - val_loss: 1.4565 - val_accuracy: 0.5091 - lr: 7.0795e-04\n",
      "Epoch 25/100\n",
      "1250/1250 [==============================] - 23s 19ms/step - loss: 1.0955 - accuracy: 0.6095 - val_loss: 1.4389 - val_accuracy: 0.5113 - lr: 6.3096e-04\n",
      "Epoch 26/100\n",
      "1250/1250 [==============================] - 23s 19ms/step - loss: 1.0840 - accuracy: 0.6146 - val_loss: 1.4668 - val_accuracy: 0.5043 - lr: 5.6234e-04\n",
      "Epoch 27/100\n",
      "1250/1250 [==============================] - 24s 19ms/step - loss: 1.0779 - accuracy: 0.6158 - val_loss: 1.4425 - val_accuracy: 0.5179 - lr: 5.0119e-04\n",
      "Epoch 28/100\n",
      "1250/1250 [==============================] - 24s 19ms/step - loss: 1.0751 - accuracy: 0.6169 - val_loss: 1.4358 - val_accuracy: 0.5179 - lr: 4.4668e-04\n",
      "Epoch 29/100\n",
      "1250/1250 [==============================] - 24s 19ms/step - loss: 1.0673 - accuracy: 0.6190 - val_loss: 1.4348 - val_accuracy: 0.5178 - lr: 3.9811e-04\n",
      "Epoch 30/100\n",
      "1250/1250 [==============================] - 24s 19ms/step - loss: 1.0535 - accuracy: 0.6287 - val_loss: 1.4438 - val_accuracy: 0.5139 - lr: 3.5481e-04\n",
      "Epoch 31/100\n",
      "1250/1250 [==============================] - 24s 19ms/step - loss: 1.0549 - accuracy: 0.6245 - val_loss: 1.4150 - val_accuracy: 0.5216 - lr: 3.1623e-04\n",
      "Epoch 32/100\n",
      "1250/1250 [==============================] - 24s 19ms/step - loss: 1.0446 - accuracy: 0.6290 - val_loss: 1.4223 - val_accuracy: 0.5220 - lr: 2.8184e-04\n",
      "Epoch 33/100\n",
      "1250/1250 [==============================] - 24s 19ms/step - loss: 1.0462 - accuracy: 0.6278 - val_loss: 1.4385 - val_accuracy: 0.5178 - lr: 2.5119e-04\n",
      "Epoch 34/100\n",
      "1250/1250 [==============================] - 24s 19ms/step - loss: 1.0350 - accuracy: 0.6328 - val_loss: 1.4346 - val_accuracy: 0.5189 - lr: 2.2387e-04\n",
      "Epoch 35/100\n",
      "1250/1250 [==============================] - 24s 19ms/step - loss: 1.0338 - accuracy: 0.6310 - val_loss: 1.4331 - val_accuracy: 0.5243 - lr: 1.9953e-04\n",
      "Epoch 36/100\n",
      "1250/1250 [==============================] - 24s 19ms/step - loss: 1.0334 - accuracy: 0.6318 - val_loss: 1.4345 - val_accuracy: 0.5200 - lr: 1.7783e-04\n",
      "Epoch 37/100\n",
      "1250/1250 [==============================] - 24s 19ms/step - loss: 1.0242 - accuracy: 0.6366 - val_loss: 1.4251 - val_accuracy: 0.5213 - lr: 1.5849e-04\n",
      "Epoch 38/100\n",
      "1250/1250 [==============================] - 24s 19ms/step - loss: 1.0300 - accuracy: 0.6332 - val_loss: 1.4266 - val_accuracy: 0.5249 - lr: 1.4125e-04\n",
      "Epoch 39/100\n",
      "1250/1250 [==============================] - 24s 19ms/step - loss: 1.0231 - accuracy: 0.6360 - val_loss: 1.4343 - val_accuracy: 0.5223 - lr: 1.2589e-04\n",
      "Epoch 40/100\n",
      "1250/1250 [==============================] - 24s 19ms/step - loss: 1.0234 - accuracy: 0.6361 - val_loss: 1.4256 - val_accuracy: 0.5258 - lr: 1.1220e-04\n",
      "Epoch 41/100\n",
      "1250/1250 [==============================] - 24s 19ms/step - loss: 1.0165 - accuracy: 0.6385 - val_loss: 1.4277 - val_accuracy: 0.5231 - lr: 1.0000e-04\n"
     ]
    }
   ],
   "source": [
    "history = model1.fit(x_train,y_train,validation_data=(x_valid,y_valid),callbacks=[early_stopping_cb,lr_schedular],epochs=100)"
   ]
  },
  {
   "cell_type": "code",
   "execution_count": 22,
   "metadata": {},
   "outputs": [
    {
     "data": {
      "image/png": "[encoded data removed]",
      "text/plain": [
       "<Figure size 640x480 with 1 Axes>"
      ]
     },
     "metadata": {},
     "output_type": "display_data"
    }
   ],
   "source": [
    "plt.plot(history.history['loss'], label='Loss')\n",
    "plt.plot(history.history['val_loss'], label='Val_loss')\n",
    "plt.title('Learning Curve')\n",
    "plt.xlabel('Epoch')\n",
    "plt.ylabel('Loss')\n",
    "plt.legend()\n",
    "plt.show()"
   ]
  },
  {
   "cell_type": "markdown",
   "metadata": {},
   "source": [
    "### Yeah both models are bad (in this type of problems cnns are used), but at least we got better performance when using batch norm"
   ]
  },
  {
   "cell_type": "markdown",
   "metadata": {},
   "source": [
    "### We can also notice that the loss has converged a lot quicker than before "
   ]
  }
 ],
 "metadata": {
  "kernelspec": {
   "display_name": "base",
   "language": "python",
   "name": "python3"
  },
  "language_info": {
   "codemirror_mode": {
    "name": "ipython",
    "version": 3
   },
   "file_extension": ".py",
   "mimetype": "text/x-python",
   "name": "python",
   "nbconvert_exporter": "python",
   "pygments_lexer": "ipython3",
   "version": "3.9.18"
  }
 },
 "nbformat": 4,
 "nbformat_minor": 2
}
